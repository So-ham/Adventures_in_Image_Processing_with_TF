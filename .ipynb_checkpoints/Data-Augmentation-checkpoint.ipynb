{
 "cells": [
  {
   "cell_type": "markdown",
   "metadata": {},
   "source": [
    "# Data Augmentation #\n",
    "- - - - \n",
    "* Data augmentation is the collection of techniques involved in generating new training samples.\n",
    "* They must be generated  in a way such that the **class labels remain unchanged**.\n",
    "* This improves the generalizability of the model.\n",
    "* The validation accuracy is most likely going to increase at the cost of training accuracy.\n",
    "- - - - \n",
    "![Me and the Boys](graphs/graph_1.png)\n",
    "In image processing, data augmentation becomes very natural. Geometric transformations and adding random jitters and perturbations to pixel values give us new training samples with the same class label.\n",
    "* Translations\n",
    "* Rotations\n",
    "* Changes in scale\n",
    "* Horizontal flips\n",
    "![Me and the Boys](memes/meme_1.jpg)\n"
   ]
  }
 ],
 "metadata": {
  "kernelspec": {
   "display_name": "Python 3",
   "language": "python",
   "name": "python3"
  },
  "language_info": {
   "codemirror_mode": {
    "name": "ipython",
    "version": 3
   },
   "file_extension": ".py",
   "mimetype": "text/x-python",
   "name": "python",
   "nbconvert_exporter": "python",
   "pygments_lexer": "ipython3",
   "version": "3.6.7"
  }
 },
 "nbformat": 4,
 "nbformat_minor": 2
}
